{
 "cells": [
  {
   "cell_type": "code",
   "execution_count": 45,
   "id": "429a4f65",
   "metadata": {},
   "outputs": [],
   "source": [
    "import cv2"
   ]
  },
  {
   "cell_type": "code",
   "execution_count": 46,
   "id": "4a3604f2",
   "metadata": {},
   "outputs": [],
   "source": [
    "vid = cv2.VideoCapture(0)\n",
    "# here argument 0 can alos be replaced by the file path, but 0 represent the prefered camera somtimes it might be -1 too"
   ]
  },
  {
   "cell_type": "code",
   "execution_count": 47,
   "id": "9ee23101",
   "metadata": {},
   "outputs": [],
   "source": [
    "while True:\n",
    "    ret, frame = vid.read()\n",
    "    cv2.imshow(\"Frame1\", frame)\n",
    "# if we show above line of code it will give us color image\n",
    "    \n",
    "    gray = cv2.cvtColor(frame, cv2.COLOR_BGR2GRAY)\n",
    "    cv2.imshow(\"Frame2\", gray)\n",
    "    \n",
    "    random = cv2.cvtColor(frame, cv2.COLOR_BGR2LUV)\n",
    "    cv2.imshow(\"Frame3\", random)\n",
    "    \n",
    "#     above line of code gives us grayscale video\n",
    "    if cv2.waitKey(1) == ord('q'):\n",
    "        break\n",
    "        \n",
    "# here we have .read function which will return two things \n",
    "# first one is true or false is it has successfully connected to camera then it will be true\n",
    "# second one is frame where all the live video or the image will be stored\n",
    "\n",
    "# if waitkey is provided with key 0 then it will take the photo only but wheen 1 is given as arguement then it is provided with live shoot\n",
    "\n",
    "        \n",
    "vid.release()\n",
    "# All the resources are released here\n",
    "cv2.destroyAllWindows()\n",
    "# all the windows are destroyed"
   ]
  },
  {
   "cell_type": "code",
   "execution_count": 48,
   "id": "e0fe43a8",
   "metadata": {},
   "outputs": [],
   "source": [
    "# now suppose we have not given the correct path of the file and hence there might be error \n",
    "# then isOpen() method is used for the purpose of the checking and entering only when we don't have the correct path\n",
    "# it can be used in the while loop"
   ]
  },
  {
   "cell_type": "code",
   "execution_count": 50,
   "id": "fdee9885",
   "metadata": {},
   "outputs": [],
   "source": [
    "vid = cv2.VideoCapture(0)\n",
    "while (vid.isOpened()):\n",
    "    ret, frame = vid.read()\n",
    "    cv2.imshow(\"Frame\", frame)\n",
    "    \n",
    "    if cv2.waitKey(1) == ord('q'):\n",
    "        break;\n",
    "        \n",
    "vid.release();\n",
    "cv2.destroyAllWindows()"
   ]
  },
  {
   "cell_type": "code",
   "execution_count": null,
   "id": "82958528",
   "metadata": {},
   "outputs": [],
   "source": []
  }
 ],
 "metadata": {
  "kernelspec": {
   "display_name": "Python 3 (ipykernel)",
   "language": "python",
   "name": "python3"
  },
  "language_info": {
   "codemirror_mode": {
    "name": "ipython",
    "version": 3
   },
   "file_extension": ".py",
   "mimetype": "text/x-python",
   "name": "python",
   "nbconvert_exporter": "python",
   "pygments_lexer": "ipython3",
   "version": "3.10.2"
  }
 },
 "nbformat": 4,
 "nbformat_minor": 5
}
