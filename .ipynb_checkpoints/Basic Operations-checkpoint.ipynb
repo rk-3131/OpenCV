{
 "cells": [
  {
   "cell_type": "code",
   "execution_count": 15,
   "id": "5bf90a91",
   "metadata": {},
   "outputs": [],
   "source": [
    "import cv2"
   ]
  },
  {
   "cell_type": "code",
   "execution_count": 16,
   "id": "ab1b81a0",
   "metadata": {},
   "outputs": [],
   "source": [
    "# importing image into pyhton file using opencv"
   ]
  },
  {
   "cell_type": "code",
   "execution_count": 17,
   "id": "10ce8d82",
   "metadata": {},
   "outputs": [],
   "source": [
    "img = cv2.imread('Images/lena.jpg', 0)\n",
    "# imread takes two parameters first one is path of the image and second one has three parameters\n",
    "# 0 represents grayscale image\n",
    "# 1 represents original image\n",
    "# -1 represents has alpha channel"
   ]
  },
  {
   "cell_type": "code",
   "execution_count": 18,
   "id": "c88f0bca",
   "metadata": {},
   "outputs": [
    {
     "name": "stdout",
     "output_type": "stream",
     "text": [
      "[[163 162 161 ... 170 154 130]\n",
      " [162 162 162 ... 173 155 126]\n",
      " [162 162 163 ... 170 155 128]\n",
      " ...\n",
      " [ 43  42  51 ... 103 101  99]\n",
      " [ 41  42  55 ... 103 105 106]\n",
      " [ 42  44  57 ... 102 106 109]]\n"
     ]
    }
   ],
   "source": [
    "print(img)"
   ]
  },
  {
   "cell_type": "code",
   "execution_count": 19,
   "id": "a86870df",
   "metadata": {},
   "outputs": [],
   "source": [
    "cv2.imshow('Image', img)\n",
    "# here imshow takes two parameters and first one is name of the window where image has to be shown\n",
    "# img is parameter where we have stored the image\n",
    "cv2.waitKey(0)\n",
    "cv2.destroyAllWindows() # this is used to destroy all the windows created\n",
    "# waitkey takes number of milliseconds to close the image\n",
    "# 0 means it'll be open until we close it"
   ]
  },
  {
   "cell_type": "code",
   "execution_count": 20,
   "id": "930df9e6",
   "metadata": {},
   "outputs": [],
   "source": [
    "# write an image to a file "
   ]
  },
  {
   "cell_type": "code",
   "execution_count": 21,
   "id": "49f5e7c5",
   "metadata": {},
   "outputs": [
    {
     "data": {
      "text/plain": [
       "True"
      ]
     },
     "execution_count": 21,
     "metadata": {},
     "output_type": "execute_result"
    }
   ],
   "source": [
    "cv2.imwrite(\"lena_copy.png\", img)"
   ]
  },
  {
   "cell_type": "code",
   "execution_count": 22,
   "id": "411a20cf",
   "metadata": {},
   "outputs": [],
   "source": [
    "# imwrite is used to write an image into the file system\n",
    "# first parameter is name of the image you want to give and second is name of the image in the python which we want to export"
   ]
  },
  {
   "cell_type": "code",
   "execution_count": 23,
   "id": "ee06351c",
   "metadata": {},
   "outputs": [],
   "source": [
    "# lets make our code more user friendly"
   ]
  },
  {
   "cell_type": "code",
   "execution_count": 24,
   "id": "57e7908f",
   "metadata": {},
   "outputs": [],
   "source": [
    "img = cv2.imread(\"Images/baboon.jpg\", 1)"
   ]
  },
  {
   "cell_type": "code",
   "execution_count": 26,
   "id": "ca0b3eb0",
   "metadata": {},
   "outputs": [],
   "source": [
    "cv2.imshow(\"image\", img)\n",
    "\n",
    "key = cv2.waitKey(0);\n",
    "\n",
    "if key == 27:\n",
    "    cv2.destroyAllWindows()\n",
    "elif key == ord('s'):\n",
    "    cv2.imwrite(\"other_sample.jpg\", img)\n",
    "    cv2.destroyAllWindows()\n",
    "\n",
    "# here 27 is number which represents escape key and then we have ord('s') which specifies if I have clicked s key then image will be saved"
   ]
  },
  {
   "cell_type": "code",
   "execution_count": null,
   "id": "c0671027",
   "metadata": {},
   "outputs": [],
   "source": []
  },
  {
   "cell_type": "code",
   "execution_count": null,
   "id": "abae36b0",
   "metadata": {},
   "outputs": [],
   "source": []
  }
 ],
 "metadata": {
  "kernelspec": {
   "display_name": "Python 3 (ipykernel)",
   "language": "python",
   "name": "python3"
  },
  "language_info": {
   "codemirror_mode": {
    "name": "ipython",
    "version": 3
   },
   "file_extension": ".py",
   "mimetype": "text/x-python",
   "name": "python",
   "nbconvert_exporter": "python",
   "pygments_lexer": "ipython3",
   "version": "3.10.2"
  }
 },
 "nbformat": 4,
 "nbformat_minor": 5
}
